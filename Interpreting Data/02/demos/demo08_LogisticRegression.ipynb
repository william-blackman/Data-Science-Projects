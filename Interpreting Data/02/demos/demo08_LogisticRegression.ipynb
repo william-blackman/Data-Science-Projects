{
 "cells": [
  {
   "cell_type": "code",
   "execution_count": 1,
   "metadata": {},
   "outputs": [],
   "source": [
    "import pandas as pd"
   ]
  },
  {
   "cell_type": "markdown",
   "metadata": {},
   "source": [
    "### Gender voice dataset\n",
    "#### Source : https://www.mldata.io/dataset-details/gender_voice/\n",
    "meanfreq\t-\tmean frequency (in kHz)\n",
    "\n",
    "sd\t        -\tstandard deviation of frequency\n",
    "\n",
    "median   \t- median frequency (in kHz)\n",
    "\n",
    "IQR\t        -\tinterquantile range (in kHz)\n",
    "\n",
    "sp.ent\t    -\tspectral entropy\n",
    "\n",
    "centroid\t-\tfrequency centroid (see specprop)\n",
    "\n",
    "minfun\t    -\tminimum fundamental frequency measured across acoustic signal\n",
    "\n",
    "label\t    -\tPredictor class, male or female"
   ]
  },
  {
   "cell_type": "code",
   "execution_count": 2,
   "metadata": {},
   "outputs": [
    {
     "data": {
      "text/html": [
       "<div>\n",
       "<style scoped>\n",
       "    .dataframe tbody tr th:only-of-type {\n",
       "        vertical-align: middle;\n",
       "    }\n",
       "\n",
       "    .dataframe tbody tr th {\n",
       "        vertical-align: top;\n",
       "    }\n",
       "\n",
       "    .dataframe thead th {\n",
       "        text-align: right;\n",
       "    }\n",
       "</style>\n",
       "<table border=\"1\" class=\"dataframe\">\n",
       "  <thead>\n",
       "    <tr style=\"text-align: right;\">\n",
       "      <th></th>\n",
       "      <th>meanfreq</th>\n",
       "      <th>sd</th>\n",
       "      <th>median</th>\n",
       "      <th>Q25</th>\n",
       "      <th>Q75</th>\n",
       "      <th>IQR</th>\n",
       "      <th>skew</th>\n",
       "      <th>kurt</th>\n",
       "      <th>sp.ent</th>\n",
       "      <th>sfm</th>\n",
       "      <th>...</th>\n",
       "      <th>centroid</th>\n",
       "      <th>meanfun</th>\n",
       "      <th>minfun</th>\n",
       "      <th>maxfun</th>\n",
       "      <th>meandom</th>\n",
       "      <th>mindom</th>\n",
       "      <th>maxdom</th>\n",
       "      <th>dfrange</th>\n",
       "      <th>modindx</th>\n",
       "      <th>label</th>\n",
       "    </tr>\n",
       "  </thead>\n",
       "  <tbody>\n",
       "    <tr>\n",
       "      <td>291</td>\n",
       "      <td>0.048254</td>\n",
       "      <td>0.070167</td>\n",
       "      <td>0.015790</td>\n",
       "      <td>0.008229</td>\n",
       "      <td>0.058268</td>\n",
       "      <td>0.050040</td>\n",
       "      <td>3.289199</td>\n",
       "      <td>12.906251</td>\n",
       "      <td>0.830441</td>\n",
       "      <td>0.300592</td>\n",
       "      <td>...</td>\n",
       "      <td>0.048254</td>\n",
       "      <td>0.100127</td>\n",
       "      <td>0.016719</td>\n",
       "      <td>0.275862</td>\n",
       "      <td>0.183364</td>\n",
       "      <td>0.007812</td>\n",
       "      <td>4.882812</td>\n",
       "      <td>4.875000</td>\n",
       "      <td>0.069912</td>\n",
       "      <td>male</td>\n",
       "    </tr>\n",
       "    <tr>\n",
       "      <td>1190</td>\n",
       "      <td>0.207960</td>\n",
       "      <td>0.061353</td>\n",
       "      <td>0.238038</td>\n",
       "      <td>0.140381</td>\n",
       "      <td>0.266267</td>\n",
       "      <td>0.125886</td>\n",
       "      <td>2.571208</td>\n",
       "      <td>10.683324</td>\n",
       "      <td>0.868951</td>\n",
       "      <td>0.274106</td>\n",
       "      <td>...</td>\n",
       "      <td>0.207960</td>\n",
       "      <td>0.122592</td>\n",
       "      <td>0.046967</td>\n",
       "      <td>0.268156</td>\n",
       "      <td>1.792221</td>\n",
       "      <td>0.023438</td>\n",
       "      <td>6.421875</td>\n",
       "      <td>6.398438</td>\n",
       "      <td>0.161921</td>\n",
       "      <td>male</td>\n",
       "    </tr>\n",
       "    <tr>\n",
       "      <td>2810</td>\n",
       "      <td>0.231343</td>\n",
       "      <td>0.029296</td>\n",
       "      <td>0.227883</td>\n",
       "      <td>0.218175</td>\n",
       "      <td>0.245766</td>\n",
       "      <td>0.027591</td>\n",
       "      <td>2.644273</td>\n",
       "      <td>9.934500</td>\n",
       "      <td>0.789733</td>\n",
       "      <td>0.117383</td>\n",
       "      <td>...</td>\n",
       "      <td>0.231343</td>\n",
       "      <td>0.199985</td>\n",
       "      <td>0.047431</td>\n",
       "      <td>0.279070</td>\n",
       "      <td>1.775082</td>\n",
       "      <td>0.234375</td>\n",
       "      <td>19.453125</td>\n",
       "      <td>19.218750</td>\n",
       "      <td>0.104709</td>\n",
       "      <td>female</td>\n",
       "    </tr>\n",
       "    <tr>\n",
       "      <td>1534</td>\n",
       "      <td>0.157928</td>\n",
       "      <td>0.059404</td>\n",
       "      <td>0.133126</td>\n",
       "      <td>0.108241</td>\n",
       "      <td>0.217700</td>\n",
       "      <td>0.109459</td>\n",
       "      <td>2.850184</td>\n",
       "      <td>13.123892</td>\n",
       "      <td>0.901424</td>\n",
       "      <td>0.390069</td>\n",
       "      <td>...</td>\n",
       "      <td>0.157928</td>\n",
       "      <td>0.108966</td>\n",
       "      <td>0.049505</td>\n",
       "      <td>0.161290</td>\n",
       "      <td>0.518852</td>\n",
       "      <td>0.083008</td>\n",
       "      <td>0.791016</td>\n",
       "      <td>0.708008</td>\n",
       "      <td>0.626369</td>\n",
       "      <td>male</td>\n",
       "    </tr>\n",
       "    <tr>\n",
       "      <td>327</td>\n",
       "      <td>0.154345</td>\n",
       "      <td>0.061858</td>\n",
       "      <td>0.158243</td>\n",
       "      <td>0.100908</td>\n",
       "      <td>0.205361</td>\n",
       "      <td>0.104453</td>\n",
       "      <td>2.791509</td>\n",
       "      <td>13.058492</td>\n",
       "      <td>0.920559</td>\n",
       "      <td>0.524902</td>\n",
       "      <td>...</td>\n",
       "      <td>0.154345</td>\n",
       "      <td>0.100617</td>\n",
       "      <td>0.049751</td>\n",
       "      <td>0.277778</td>\n",
       "      <td>0.735763</td>\n",
       "      <td>0.107422</td>\n",
       "      <td>3.569336</td>\n",
       "      <td>3.461914</td>\n",
       "      <td>0.269394</td>\n",
       "      <td>male</td>\n",
       "    </tr>\n",
       "    <tr>\n",
       "      <td>2473</td>\n",
       "      <td>0.198333</td>\n",
       "      <td>0.057894</td>\n",
       "      <td>0.213907</td>\n",
       "      <td>0.197953</td>\n",
       "      <td>0.232465</td>\n",
       "      <td>0.034512</td>\n",
       "      <td>2.624526</td>\n",
       "      <td>9.595826</td>\n",
       "      <td>0.876050</td>\n",
       "      <td>0.400094</td>\n",
       "      <td>...</td>\n",
       "      <td>0.198333</td>\n",
       "      <td>0.175645</td>\n",
       "      <td>0.048000</td>\n",
       "      <td>0.277457</td>\n",
       "      <td>1.379788</td>\n",
       "      <td>0.023438</td>\n",
       "      <td>6.351562</td>\n",
       "      <td>6.328125</td>\n",
       "      <td>0.089719</td>\n",
       "      <td>female</td>\n",
       "    </tr>\n",
       "    <tr>\n",
       "      <td>2560</td>\n",
       "      <td>0.218046</td>\n",
       "      <td>0.044257</td>\n",
       "      <td>0.220260</td>\n",
       "      <td>0.180260</td>\n",
       "      <td>0.260779</td>\n",
       "      <td>0.080519</td>\n",
       "      <td>1.886142</td>\n",
       "      <td>6.762014</td>\n",
       "      <td>0.867115</td>\n",
       "      <td>0.202030</td>\n",
       "      <td>...</td>\n",
       "      <td>0.218046</td>\n",
       "      <td>0.180807</td>\n",
       "      <td>0.047105</td>\n",
       "      <td>0.275862</td>\n",
       "      <td>1.065848</td>\n",
       "      <td>0.187500</td>\n",
       "      <td>7.804688</td>\n",
       "      <td>7.617188</td>\n",
       "      <td>0.116923</td>\n",
       "      <td>female</td>\n",
       "    </tr>\n",
       "    <tr>\n",
       "      <td>1449</td>\n",
       "      <td>0.179108</td>\n",
       "      <td>0.061642</td>\n",
       "      <td>0.176245</td>\n",
       "      <td>0.142920</td>\n",
       "      <td>0.238773</td>\n",
       "      <td>0.095853</td>\n",
       "      <td>1.851029</td>\n",
       "      <td>7.034257</td>\n",
       "      <td>0.920308</td>\n",
       "      <td>0.431603</td>\n",
       "      <td>...</td>\n",
       "      <td>0.179108</td>\n",
       "      <td>0.122968</td>\n",
       "      <td>0.050000</td>\n",
       "      <td>0.277457</td>\n",
       "      <td>1.080469</td>\n",
       "      <td>0.023438</td>\n",
       "      <td>4.382812</td>\n",
       "      <td>4.359375</td>\n",
       "      <td>0.192368</td>\n",
       "      <td>male</td>\n",
       "    </tr>\n",
       "    <tr>\n",
       "      <td>772</td>\n",
       "      <td>0.163002</td>\n",
       "      <td>0.058707</td>\n",
       "      <td>0.173992</td>\n",
       "      <td>0.103128</td>\n",
       "      <td>0.205679</td>\n",
       "      <td>0.102551</td>\n",
       "      <td>1.550271</td>\n",
       "      <td>5.280638</td>\n",
       "      <td>0.930426</td>\n",
       "      <td>0.481643</td>\n",
       "      <td>...</td>\n",
       "      <td>0.163002</td>\n",
       "      <td>0.108706</td>\n",
       "      <td>0.020177</td>\n",
       "      <td>0.246154</td>\n",
       "      <td>0.655625</td>\n",
       "      <td>0.093750</td>\n",
       "      <td>4.906250</td>\n",
       "      <td>4.812500</td>\n",
       "      <td>0.210836</td>\n",
       "      <td>male</td>\n",
       "    </tr>\n",
       "    <tr>\n",
       "      <td>109</td>\n",
       "      <td>0.179029</td>\n",
       "      <td>0.065368</td>\n",
       "      <td>0.164454</td>\n",
       "      <td>0.126415</td>\n",
       "      <td>0.247681</td>\n",
       "      <td>0.121267</td>\n",
       "      <td>2.141880</td>\n",
       "      <td>8.493103</td>\n",
       "      <td>0.912945</td>\n",
       "      <td>0.436573</td>\n",
       "      <td>...</td>\n",
       "      <td>0.179029</td>\n",
       "      <td>0.125993</td>\n",
       "      <td>0.026667</td>\n",
       "      <td>0.181818</td>\n",
       "      <td>0.440104</td>\n",
       "      <td>0.070312</td>\n",
       "      <td>5.843750</td>\n",
       "      <td>5.773438</td>\n",
       "      <td>0.110352</td>\n",
       "      <td>male</td>\n",
       "    </tr>\n",
       "  </tbody>\n",
       "</table>\n",
       "<p>10 rows × 21 columns</p>\n",
       "</div>"
      ],
      "text/plain": [
       "      meanfreq        sd    median       Q25       Q75       IQR      skew  \\\n",
       "291   0.048254  0.070167  0.015790  0.008229  0.058268  0.050040  3.289199   \n",
       "1190  0.207960  0.061353  0.238038  0.140381  0.266267  0.125886  2.571208   \n",
       "2810  0.231343  0.029296  0.227883  0.218175  0.245766  0.027591  2.644273   \n",
       "1534  0.157928  0.059404  0.133126  0.108241  0.217700  0.109459  2.850184   \n",
       "327   0.154345  0.061858  0.158243  0.100908  0.205361  0.104453  2.791509   \n",
       "2473  0.198333  0.057894  0.213907  0.197953  0.232465  0.034512  2.624526   \n",
       "2560  0.218046  0.044257  0.220260  0.180260  0.260779  0.080519  1.886142   \n",
       "1449  0.179108  0.061642  0.176245  0.142920  0.238773  0.095853  1.851029   \n",
       "772   0.163002  0.058707  0.173992  0.103128  0.205679  0.102551  1.550271   \n",
       "109   0.179029  0.065368  0.164454  0.126415  0.247681  0.121267  2.141880   \n",
       "\n",
       "           kurt    sp.ent       sfm  ...  centroid   meanfun    minfun  \\\n",
       "291   12.906251  0.830441  0.300592  ...  0.048254  0.100127  0.016719   \n",
       "1190  10.683324  0.868951  0.274106  ...  0.207960  0.122592  0.046967   \n",
       "2810   9.934500  0.789733  0.117383  ...  0.231343  0.199985  0.047431   \n",
       "1534  13.123892  0.901424  0.390069  ...  0.157928  0.108966  0.049505   \n",
       "327   13.058492  0.920559  0.524902  ...  0.154345  0.100617  0.049751   \n",
       "2473   9.595826  0.876050  0.400094  ...  0.198333  0.175645  0.048000   \n",
       "2560   6.762014  0.867115  0.202030  ...  0.218046  0.180807  0.047105   \n",
       "1449   7.034257  0.920308  0.431603  ...  0.179108  0.122968  0.050000   \n",
       "772    5.280638  0.930426  0.481643  ...  0.163002  0.108706  0.020177   \n",
       "109    8.493103  0.912945  0.436573  ...  0.179029  0.125993  0.026667   \n",
       "\n",
       "        maxfun   meandom    mindom     maxdom    dfrange   modindx   label  \n",
       "291   0.275862  0.183364  0.007812   4.882812   4.875000  0.069912    male  \n",
       "1190  0.268156  1.792221  0.023438   6.421875   6.398438  0.161921    male  \n",
       "2810  0.279070  1.775082  0.234375  19.453125  19.218750  0.104709  female  \n",
       "1534  0.161290  0.518852  0.083008   0.791016   0.708008  0.626369    male  \n",
       "327   0.277778  0.735763  0.107422   3.569336   3.461914  0.269394    male  \n",
       "2473  0.277457  1.379788  0.023438   6.351562   6.328125  0.089719  female  \n",
       "2560  0.275862  1.065848  0.187500   7.804688   7.617188  0.116923  female  \n",
       "1449  0.277457  1.080469  0.023438   4.382812   4.359375  0.192368    male  \n",
       "772   0.246154  0.655625  0.093750   4.906250   4.812500  0.210836    male  \n",
       "109   0.181818  0.440104  0.070312   5.843750   5.773438  0.110352    male  \n",
       "\n",
       "[10 rows x 21 columns]"
      ]
     },
     "execution_count": 2,
     "metadata": {},
     "output_type": "execute_result"
    }
   ],
   "source": [
    "data = pd.read_csv('datasets/gender_voice_dataset.csv')\n",
    "\n",
    "data.sample(10)"
   ]
  },
  {
   "cell_type": "code",
   "execution_count": 6,
   "metadata": {},
   "outputs": [
    {
     "data": {
      "text/html": [
       "<div>\n",
       "<style scoped>\n",
       "    .dataframe tbody tr th:only-of-type {\n",
       "        vertical-align: middle;\n",
       "    }\n",
       "\n",
       "    .dataframe tbody tr th {\n",
       "        vertical-align: top;\n",
       "    }\n",
       "\n",
       "    .dataframe thead th {\n",
       "        text-align: right;\n",
       "    }\n",
       "</style>\n",
       "<table border=\"1\" class=\"dataframe\">\n",
       "  <thead>\n",
       "    <tr style=\"text-align: right;\">\n",
       "      <th></th>\n",
       "      <th>label</th>\n",
       "    </tr>\n",
       "  </thead>\n",
       "  <tbody>\n",
       "    <tr>\n",
       "      <td>2600</td>\n",
       "      <td>female</td>\n",
       "    </tr>\n",
       "    <tr>\n",
       "      <td>2380</td>\n",
       "      <td>female</td>\n",
       "    </tr>\n",
       "    <tr>\n",
       "      <td>611</td>\n",
       "      <td>male</td>\n",
       "    </tr>\n",
       "    <tr>\n",
       "      <td>2234</td>\n",
       "      <td>female</td>\n",
       "    </tr>\n",
       "    <tr>\n",
       "      <td>1322</td>\n",
       "      <td>male</td>\n",
       "    </tr>\n",
       "    <tr>\n",
       "      <td>754</td>\n",
       "      <td>male</td>\n",
       "    </tr>\n",
       "    <tr>\n",
       "      <td>248</td>\n",
       "      <td>male</td>\n",
       "    </tr>\n",
       "    <tr>\n",
       "      <td>1533</td>\n",
       "      <td>male</td>\n",
       "    </tr>\n",
       "    <tr>\n",
       "      <td>520</td>\n",
       "      <td>male</td>\n",
       "    </tr>\n",
       "    <tr>\n",
       "      <td>1652</td>\n",
       "      <td>female</td>\n",
       "    </tr>\n",
       "  </tbody>\n",
       "</table>\n",
       "</div>"
      ],
      "text/plain": [
       "       label\n",
       "2600  female\n",
       "2380  female\n",
       "611     male\n",
       "2234  female\n",
       "1322    male\n",
       "754     male\n",
       "248     male\n",
       "1533    male\n",
       "520     male\n",
       "1652  female"
      ]
     },
     "execution_count": 6,
     "metadata": {},
     "output_type": "execute_result"
    }
   ],
   "source": [
    "data[['label']].sample(10)"
   ]
  },
  {
   "cell_type": "code",
   "execution_count": 7,
   "metadata": {},
   "outputs": [
    {
     "data": {
      "text/plain": [
       "(3168, 21)"
      ]
     },
     "execution_count": 7,
     "metadata": {},
     "output_type": "execute_result"
    }
   ],
   "source": [
    "data.shape"
   ]
  },
  {
   "cell_type": "markdown",
   "metadata": {},
   "source": [
    "### Describing values"
   ]
  },
  {
   "cell_type": "code",
   "execution_count": 8,
   "metadata": {},
   "outputs": [
    {
     "data": {
      "text/html": [
       "<div>\n",
       "<style scoped>\n",
       "    .dataframe tbody tr th:only-of-type {\n",
       "        vertical-align: middle;\n",
       "    }\n",
       "\n",
       "    .dataframe tbody tr th {\n",
       "        vertical-align: top;\n",
       "    }\n",
       "\n",
       "    .dataframe thead th {\n",
       "        text-align: right;\n",
       "    }\n",
       "</style>\n",
       "<table border=\"1\" class=\"dataframe\">\n",
       "  <thead>\n",
       "    <tr style=\"text-align: right;\">\n",
       "      <th></th>\n",
       "      <th>count</th>\n",
       "      <th>mean</th>\n",
       "      <th>std</th>\n",
       "      <th>min</th>\n",
       "      <th>25%</th>\n",
       "      <th>50%</th>\n",
       "      <th>75%</th>\n",
       "      <th>max</th>\n",
       "    </tr>\n",
       "  </thead>\n",
       "  <tbody>\n",
       "    <tr>\n",
       "      <td>meanfreq</td>\n",
       "      <td>3168.0</td>\n",
       "      <td>0.180907</td>\n",
       "      <td>0.029918</td>\n",
       "      <td>0.039363</td>\n",
       "      <td>0.163662</td>\n",
       "      <td>0.184838</td>\n",
       "      <td>0.199146</td>\n",
       "      <td>0.251124</td>\n",
       "    </tr>\n",
       "    <tr>\n",
       "      <td>sd</td>\n",
       "      <td>3168.0</td>\n",
       "      <td>0.057126</td>\n",
       "      <td>0.016652</td>\n",
       "      <td>0.018363</td>\n",
       "      <td>0.041954</td>\n",
       "      <td>0.059155</td>\n",
       "      <td>0.067020</td>\n",
       "      <td>0.115273</td>\n",
       "    </tr>\n",
       "    <tr>\n",
       "      <td>median</td>\n",
       "      <td>3168.0</td>\n",
       "      <td>0.185621</td>\n",
       "      <td>0.036360</td>\n",
       "      <td>0.010975</td>\n",
       "      <td>0.169593</td>\n",
       "      <td>0.190032</td>\n",
       "      <td>0.210618</td>\n",
       "      <td>0.261224</td>\n",
       "    </tr>\n",
       "    <tr>\n",
       "      <td>Q25</td>\n",
       "      <td>3168.0</td>\n",
       "      <td>0.140456</td>\n",
       "      <td>0.048680</td>\n",
       "      <td>0.000229</td>\n",
       "      <td>0.111087</td>\n",
       "      <td>0.140286</td>\n",
       "      <td>0.175939</td>\n",
       "      <td>0.247347</td>\n",
       "    </tr>\n",
       "    <tr>\n",
       "      <td>Q75</td>\n",
       "      <td>3168.0</td>\n",
       "      <td>0.224765</td>\n",
       "      <td>0.023639</td>\n",
       "      <td>0.042946</td>\n",
       "      <td>0.208747</td>\n",
       "      <td>0.225684</td>\n",
       "      <td>0.243660</td>\n",
       "      <td>0.273469</td>\n",
       "    </tr>\n",
       "    <tr>\n",
       "      <td>IQR</td>\n",
       "      <td>3168.0</td>\n",
       "      <td>0.084309</td>\n",
       "      <td>0.042783</td>\n",
       "      <td>0.014558</td>\n",
       "      <td>0.042560</td>\n",
       "      <td>0.094280</td>\n",
       "      <td>0.114175</td>\n",
       "      <td>0.252225</td>\n",
       "    </tr>\n",
       "    <tr>\n",
       "      <td>skew</td>\n",
       "      <td>3168.0</td>\n",
       "      <td>3.140168</td>\n",
       "      <td>4.240529</td>\n",
       "      <td>0.141735</td>\n",
       "      <td>1.649569</td>\n",
       "      <td>2.197101</td>\n",
       "      <td>2.931694</td>\n",
       "      <td>34.725453</td>\n",
       "    </tr>\n",
       "    <tr>\n",
       "      <td>kurt</td>\n",
       "      <td>3168.0</td>\n",
       "      <td>36.568461</td>\n",
       "      <td>134.928661</td>\n",
       "      <td>2.068455</td>\n",
       "      <td>5.669547</td>\n",
       "      <td>8.318463</td>\n",
       "      <td>13.648905</td>\n",
       "      <td>1309.612887</td>\n",
       "    </tr>\n",
       "    <tr>\n",
       "      <td>sp.ent</td>\n",
       "      <td>3168.0</td>\n",
       "      <td>0.895127</td>\n",
       "      <td>0.044980</td>\n",
       "      <td>0.738651</td>\n",
       "      <td>0.861811</td>\n",
       "      <td>0.901767</td>\n",
       "      <td>0.928713</td>\n",
       "      <td>0.981997</td>\n",
       "    </tr>\n",
       "    <tr>\n",
       "      <td>sfm</td>\n",
       "      <td>3168.0</td>\n",
       "      <td>0.408216</td>\n",
       "      <td>0.177521</td>\n",
       "      <td>0.036876</td>\n",
       "      <td>0.258041</td>\n",
       "      <td>0.396335</td>\n",
       "      <td>0.533676</td>\n",
       "      <td>0.842936</td>\n",
       "    </tr>\n",
       "    <tr>\n",
       "      <td>mode</td>\n",
       "      <td>3168.0</td>\n",
       "      <td>0.165282</td>\n",
       "      <td>0.077203</td>\n",
       "      <td>0.000000</td>\n",
       "      <td>0.118016</td>\n",
       "      <td>0.186599</td>\n",
       "      <td>0.221104</td>\n",
       "      <td>0.280000</td>\n",
       "    </tr>\n",
       "    <tr>\n",
       "      <td>centroid</td>\n",
       "      <td>3168.0</td>\n",
       "      <td>0.180907</td>\n",
       "      <td>0.029918</td>\n",
       "      <td>0.039363</td>\n",
       "      <td>0.163662</td>\n",
       "      <td>0.184838</td>\n",
       "      <td>0.199146</td>\n",
       "      <td>0.251124</td>\n",
       "    </tr>\n",
       "    <tr>\n",
       "      <td>meanfun</td>\n",
       "      <td>3168.0</td>\n",
       "      <td>0.142807</td>\n",
       "      <td>0.032304</td>\n",
       "      <td>0.055565</td>\n",
       "      <td>0.116998</td>\n",
       "      <td>0.140519</td>\n",
       "      <td>0.169581</td>\n",
       "      <td>0.237636</td>\n",
       "    </tr>\n",
       "    <tr>\n",
       "      <td>minfun</td>\n",
       "      <td>3168.0</td>\n",
       "      <td>0.036802</td>\n",
       "      <td>0.019220</td>\n",
       "      <td>0.009775</td>\n",
       "      <td>0.018223</td>\n",
       "      <td>0.046110</td>\n",
       "      <td>0.047904</td>\n",
       "      <td>0.204082</td>\n",
       "    </tr>\n",
       "    <tr>\n",
       "      <td>maxfun</td>\n",
       "      <td>3168.0</td>\n",
       "      <td>0.258842</td>\n",
       "      <td>0.030077</td>\n",
       "      <td>0.103093</td>\n",
       "      <td>0.253968</td>\n",
       "      <td>0.271186</td>\n",
       "      <td>0.277457</td>\n",
       "      <td>0.279114</td>\n",
       "    </tr>\n",
       "    <tr>\n",
       "      <td>meandom</td>\n",
       "      <td>3168.0</td>\n",
       "      <td>0.829211</td>\n",
       "      <td>0.525205</td>\n",
       "      <td>0.007812</td>\n",
       "      <td>0.419828</td>\n",
       "      <td>0.765795</td>\n",
       "      <td>1.177166</td>\n",
       "      <td>2.957682</td>\n",
       "    </tr>\n",
       "    <tr>\n",
       "      <td>mindom</td>\n",
       "      <td>3168.0</td>\n",
       "      <td>0.052647</td>\n",
       "      <td>0.063299</td>\n",
       "      <td>0.004883</td>\n",
       "      <td>0.007812</td>\n",
       "      <td>0.023438</td>\n",
       "      <td>0.070312</td>\n",
       "      <td>0.458984</td>\n",
       "    </tr>\n",
       "    <tr>\n",
       "      <td>maxdom</td>\n",
       "      <td>3168.0</td>\n",
       "      <td>5.047277</td>\n",
       "      <td>3.521157</td>\n",
       "      <td>0.007812</td>\n",
       "      <td>2.070312</td>\n",
       "      <td>4.992188</td>\n",
       "      <td>7.007812</td>\n",
       "      <td>21.867188</td>\n",
       "    </tr>\n",
       "    <tr>\n",
       "      <td>dfrange</td>\n",
       "      <td>3168.0</td>\n",
       "      <td>4.994630</td>\n",
       "      <td>3.520039</td>\n",
       "      <td>0.000000</td>\n",
       "      <td>2.044922</td>\n",
       "      <td>4.945312</td>\n",
       "      <td>6.992188</td>\n",
       "      <td>21.843750</td>\n",
       "    </tr>\n",
       "    <tr>\n",
       "      <td>modindx</td>\n",
       "      <td>3168.0</td>\n",
       "      <td>0.173752</td>\n",
       "      <td>0.119454</td>\n",
       "      <td>0.000000</td>\n",
       "      <td>0.099766</td>\n",
       "      <td>0.139357</td>\n",
       "      <td>0.209183</td>\n",
       "      <td>0.932374</td>\n",
       "    </tr>\n",
       "  </tbody>\n",
       "</table>\n",
       "</div>"
      ],
      "text/plain": [
       "           count       mean         std       min       25%       50%  \\\n",
       "meanfreq  3168.0   0.180907    0.029918  0.039363  0.163662  0.184838   \n",
       "sd        3168.0   0.057126    0.016652  0.018363  0.041954  0.059155   \n",
       "median    3168.0   0.185621    0.036360  0.010975  0.169593  0.190032   \n",
       "Q25       3168.0   0.140456    0.048680  0.000229  0.111087  0.140286   \n",
       "Q75       3168.0   0.224765    0.023639  0.042946  0.208747  0.225684   \n",
       "IQR       3168.0   0.084309    0.042783  0.014558  0.042560  0.094280   \n",
       "skew      3168.0   3.140168    4.240529  0.141735  1.649569  2.197101   \n",
       "kurt      3168.0  36.568461  134.928661  2.068455  5.669547  8.318463   \n",
       "sp.ent    3168.0   0.895127    0.044980  0.738651  0.861811  0.901767   \n",
       "sfm       3168.0   0.408216    0.177521  0.036876  0.258041  0.396335   \n",
       "mode      3168.0   0.165282    0.077203  0.000000  0.118016  0.186599   \n",
       "centroid  3168.0   0.180907    0.029918  0.039363  0.163662  0.184838   \n",
       "meanfun   3168.0   0.142807    0.032304  0.055565  0.116998  0.140519   \n",
       "minfun    3168.0   0.036802    0.019220  0.009775  0.018223  0.046110   \n",
       "maxfun    3168.0   0.258842    0.030077  0.103093  0.253968  0.271186   \n",
       "meandom   3168.0   0.829211    0.525205  0.007812  0.419828  0.765795   \n",
       "mindom    3168.0   0.052647    0.063299  0.004883  0.007812  0.023438   \n",
       "maxdom    3168.0   5.047277    3.521157  0.007812  2.070312  4.992188   \n",
       "dfrange   3168.0   4.994630    3.520039  0.000000  2.044922  4.945312   \n",
       "modindx   3168.0   0.173752    0.119454  0.000000  0.099766  0.139357   \n",
       "\n",
       "                75%          max  \n",
       "meanfreq   0.199146     0.251124  \n",
       "sd         0.067020     0.115273  \n",
       "median     0.210618     0.261224  \n",
       "Q25        0.175939     0.247347  \n",
       "Q75        0.243660     0.273469  \n",
       "IQR        0.114175     0.252225  \n",
       "skew       2.931694    34.725453  \n",
       "kurt      13.648905  1309.612887  \n",
       "sp.ent     0.928713     0.981997  \n",
       "sfm        0.533676     0.842936  \n",
       "mode       0.221104     0.280000  \n",
       "centroid   0.199146     0.251124  \n",
       "meanfun    0.169581     0.237636  \n",
       "minfun     0.047904     0.204082  \n",
       "maxfun     0.277457     0.279114  \n",
       "meandom    1.177166     2.957682  \n",
       "mindom     0.070312     0.458984  \n",
       "maxdom     7.007812    21.867188  \n",
       "dfrange    6.992188    21.843750  \n",
       "modindx    0.209183     0.932374  "
      ]
     },
     "execution_count": 8,
     "metadata": {},
     "output_type": "execute_result"
    }
   ],
   "source": [
    "data.describe().T"
   ]
  },
  {
   "cell_type": "markdown",
   "metadata": {},
   "source": [
    "### Label encoding "
   ]
  },
  {
   "cell_type": "code",
   "execution_count": 9,
   "metadata": {},
   "outputs": [
    {
     "data": {
      "text/plain": [
       "1475    1\n",
       "1935    0\n",
       "1615    0\n",
       "1524    1\n",
       "1567    1\n",
       "2754    0\n",
       "1669    0\n",
       "1909    0\n",
       "1501    1\n",
       "2087    0\n",
       "Name: label, dtype: int64"
      ]
     },
     "execution_count": 9,
     "metadata": {},
     "output_type": "execute_result"
    }
   ],
   "source": [
    "from sklearn.preprocessing import LabelEncoder\n",
    "\n",
    "labelEncoder = LabelEncoder()\n",
    "data['label'] = labelEncoder.fit_transform(data['label'].astype(str))\n",
    "\n",
    "data['label'].sample(10)"
   ]
  },
  {
   "cell_type": "code",
   "execution_count": 11,
   "metadata": {},
   "outputs": [
    {
     "data": {
      "text/plain": [
       "<matplotlib.axes._subplots.AxesSubplot at 0x1a222dea50>"
      ]
     },
     "execution_count": 11,
     "metadata": {},
     "output_type": "execute_result"
    },
    {
     "data": {
      "image/png": "[encoded data removed]",
      "text/plain": [
       "<Figure size 720x576 with 1 Axes>"
      ]
     },
     "metadata": {
      "needs_background": "light"
     },
     "output_type": "display_data"
    }
   ],
   "source": [
    "data.boxplot(by ='label', column =['meanfreq'], grid = False, figsize=(10, 8))"
   ]
  },
  {
   "cell_type": "code",
   "execution_count": 12,
   "metadata": {},
   "outputs": [
    {
     "data": {
      "text/plain": [
       "<matplotlib.axes._subplots.AxesSubplot at 0x1a22679610>"
      ]
     },
     "execution_count": 12,
     "metadata": {},
     "output_type": "execute_result"
    },
    {
     "data": {
      "image/png": "[encoded data removed]",
      "text/plain": [
       "<Figure size 720x576 with 1 Axes>"
      ]
     },
     "metadata": {
      "needs_background": "light"
     },
     "output_type": "display_data"
    }
   ],
   "source": [
    "data.boxplot(by ='label', column =['dfrange'], grid = False, figsize=(10, 8))"
   ]
  },
  {
   "cell_type": "markdown",
   "metadata": {},
   "source": [
    "### Spilting the data into train and test data"
   ]
  },
  {
   "cell_type": "code",
   "execution_count": 13,
   "metadata": {},
   "outputs": [],
   "source": [
    "from sklearn.model_selection import train_test_split\n",
    "\n",
    "features = data.drop('label', axis=1)\n",
    "target = data['label']\n",
    "\n",
    "x_train, x_test, y_train, y_test = train_test_split(features, target, test_size=0.2) "
   ]
  },
  {
   "cell_type": "code",
   "execution_count": 14,
   "metadata": {},
   "outputs": [
    {
     "data": {
      "text/plain": [
       "((2534, 20), (2534,))"
      ]
     },
     "execution_count": 14,
     "metadata": {},
     "output_type": "execute_result"
    }
   ],
   "source": [
    "x_train.shape , y_train.shape"
   ]
  },
  {
   "cell_type": "code",
   "execution_count": 15,
   "metadata": {},
   "outputs": [
    {
     "data": {
      "text/plain": [
       "((634, 20), (634,))"
      ]
     },
     "execution_count": 15,
     "metadata": {},
     "output_type": "execute_result"
    }
   ],
   "source": [
    "x_test.shape , y_test.shape "
   ]
  },
  {
   "cell_type": "markdown",
   "metadata": {},
   "source": [
    "### Logistic Regression Classifier\n",
    "https://scikit-learn.org/stable/modules/generated/sklearn.linear_model.LogisticRegression.html\n"
   ]
  },
  {
   "cell_type": "code",
   "execution_count": 19,
   "metadata": {},
   "outputs": [
    {
     "data": {
      "text/plain": [
       "LogisticRegression(C=1.0, class_weight=None, dual=False, fit_intercept=True,\n",
       "          intercept_scaling=1, max_iter=100, multi_class='warn',\n",
       "          n_jobs=None, penalty='l2', random_state=None, solver='liblinear',\n",
       "          tol=0.0001, verbose=0, warm_start=False)"
      ]
     },
     "execution_count": 19,
     "metadata": {},
     "output_type": "execute_result"
    }
   ],
   "source": [
    "from sklearn.linear_model import LogisticRegression\n",
    "from sklearn.metrics import confusion_matrix\n",
    "\n",
    "logistic_model = LogisticRegression(penalty='l2', solver='liblinear')\n",
    "\n",
    "logistic_model.fit(x_train, y_train)"
   ]
  },
  {
   "cell_type": "code",
   "execution_count": 20,
   "metadata": {},
   "outputs": [],
   "source": [
    "y_pred = logistic_model.predict(x_test)"
   ]
  },
  {
   "cell_type": "code",
   "execution_count": 21,
   "metadata": {},
   "outputs": [
    {
     "name": "stdout",
     "output_type": "stream",
     "text": [
      "[[266  45]\n",
      " [  8 315]]\n"
     ]
    }
   ],
   "source": [
    "confusion_matrix = confusion_matrix(y_test, y_pred)\n",
    "\n",
    "print(confusion_matrix)"
   ]
  },
  {
   "cell_type": "code",
   "execution_count": 22,
   "metadata": {},
   "outputs": [
    {
     "name": "stdout",
     "output_type": "stream",
     "text": [
      "Training score :  0.9068666140489345\n"
     ]
    }
   ],
   "source": [
    "print(\"Training score : \", logistic_model.score(x_train, y_train))"
   ]
  },
  {
   "cell_type": "markdown",
   "metadata": {},
   "source": [
    "### Accuracy, precision, recall scores"
   ]
  },
  {
   "cell_type": "code",
   "execution_count": 24,
   "metadata": {},
   "outputs": [
    {
     "name": "stdout",
     "output_type": "stream",
     "text": [
      "Accuracy :  0.916403785488959\n",
      "Precision Score :  0.875\n",
      "Recall Score :  0.9752321981424149\n"
     ]
    }
   ],
   "source": [
    "from sklearn.metrics import accuracy_score, precision_score, recall_score\n",
    "\n",
    "acc = accuracy_score(y_test, y_pred)\n",
    "pre = precision_score(y_test, y_pred)\n",
    "recall = recall_score(y_test, y_pred)\n",
    "\n",
    "print('Accuracy : ' , acc)\n",
    "print('Precision Score : ', pre)\n",
    "print('Recall Score : ', recall)"
   ]
  },
  {
   "cell_type": "code",
   "execution_count": 25,
   "metadata": {},
   "outputs": [],
   "source": [
    "from yellowbrick.target import FeatureCorrelation\n",
    "\n",
    "feature_names = list(features.columns)"
   ]
  },
  {
   "cell_type": "code",
   "execution_count": 26,
   "metadata": {},
   "outputs": [
    {
     "data": {
      "image/png": "[encoded data removed]",
      "text/plain": [
       "<Figure size 576x396 with 1 Axes>"
      ]
     },
     "metadata": {},
     "output_type": "display_data"
    },
    {
     "data": {
      "text/plain": [
       "<matplotlib.axes._subplots.AxesSubplot at 0x1c23223cd0>"
      ]
     },
     "execution_count": 26,
     "metadata": {},
     "output_type": "execute_result"
    }
   ],
   "source": [
    "visualizer = FeatureCorrelation(labels = feature_names)\n",
    "\n",
    "visualizer.fit(features, target)\n",
    "\n",
    "visualizer.poof()"
   ]
  },
  {
   "cell_type": "code",
   "execution_count": 27,
   "metadata": {},
   "outputs": [],
   "source": [
    "from sklearn.feature_selection import chi2, f_classif, mutual_info_classif\n",
    "from sklearn.feature_selection import SelectKBest"
   ]
  },
  {
   "cell_type": "code",
   "execution_count": 44,
   "metadata": {},
   "outputs": [],
   "source": [
    "## TODO: While recording, re-record from here first with chi2, then with f_classif and then with mutual_info_classif\n",
    "\n",
    "select_univariate = SelectKBest(chi2, k=4).fit(features, target)"
   ]
  },
  {
   "cell_type": "code",
   "execution_count": 45,
   "metadata": {},
   "outputs": [
    {
     "data": {
      "text/plain": [
       "array([False,  True, False,  True, False,  True, False, False, False,\n",
       "       False, False, False,  True, False, False, False, False, False,\n",
       "       False, False])"
      ]
     },
     "execution_count": 45,
     "metadata": {},
     "output_type": "execute_result"
    }
   ],
   "source": [
    "features_mask = select_univariate.get_support()\n",
    "\n",
    "features_mask"
   ]
  },
  {
   "cell_type": "code",
   "execution_count": 46,
   "metadata": {},
   "outputs": [
    {
     "data": {
      "text/plain": [
       "Index(['sd', 'Q25', 'IQR', 'meanfun'], dtype='object')"
      ]
     },
     "execution_count": 46,
     "metadata": {},
     "output_type": "execute_result"
    }
   ],
   "source": [
    "selected_columns = features.columns[features_mask]\n",
    "\n",
    "selected_columns"
   ]
  },
  {
   "cell_type": "code",
   "execution_count": 47,
   "metadata": {},
   "outputs": [
    {
     "data": {
      "text/html": [
       "<div>\n",
       "<style scoped>\n",
       "    .dataframe tbody tr th:only-of-type {\n",
       "        vertical-align: middle;\n",
       "    }\n",
       "\n",
       "    .dataframe tbody tr th {\n",
       "        vertical-align: top;\n",
       "    }\n",
       "\n",
       "    .dataframe thead th {\n",
       "        text-align: right;\n",
       "    }\n",
       "</style>\n",
       "<table border=\"1\" class=\"dataframe\">\n",
       "  <thead>\n",
       "    <tr style=\"text-align: right;\">\n",
       "      <th></th>\n",
       "      <th>sd</th>\n",
       "      <th>Q25</th>\n",
       "      <th>IQR</th>\n",
       "      <th>meanfun</th>\n",
       "    </tr>\n",
       "  </thead>\n",
       "  <tbody>\n",
       "    <tr>\n",
       "      <td>0</td>\n",
       "      <td>0.064241</td>\n",
       "      <td>0.015071</td>\n",
       "      <td>0.075122</td>\n",
       "      <td>0.084279</td>\n",
       "    </tr>\n",
       "    <tr>\n",
       "      <td>1</td>\n",
       "      <td>0.067310</td>\n",
       "      <td>0.019414</td>\n",
       "      <td>0.073252</td>\n",
       "      <td>0.107937</td>\n",
       "    </tr>\n",
       "    <tr>\n",
       "      <td>2</td>\n",
       "      <td>0.083829</td>\n",
       "      <td>0.008701</td>\n",
       "      <td>0.123207</td>\n",
       "      <td>0.098706</td>\n",
       "    </tr>\n",
       "    <tr>\n",
       "      <td>3</td>\n",
       "      <td>0.072111</td>\n",
       "      <td>0.096582</td>\n",
       "      <td>0.111374</td>\n",
       "      <td>0.088965</td>\n",
       "    </tr>\n",
       "    <tr>\n",
       "      <td>4</td>\n",
       "      <td>0.079146</td>\n",
       "      <td>0.078720</td>\n",
       "      <td>0.127325</td>\n",
       "      <td>0.106398</td>\n",
       "    </tr>\n",
       "  </tbody>\n",
       "</table>\n",
       "</div>"
      ],
      "text/plain": [
       "         sd       Q25       IQR   meanfun\n",
       "0  0.064241  0.015071  0.075122  0.084279\n",
       "1  0.067310  0.019414  0.073252  0.107937\n",
       "2  0.083829  0.008701  0.123207  0.098706\n",
       "3  0.072111  0.096582  0.111374  0.088965\n",
       "4  0.079146  0.078720  0.127325  0.106398"
      ]
     },
     "execution_count": 47,
     "metadata": {},
     "output_type": "execute_result"
    }
   ],
   "source": [
    "selected_features = features[selected_columns]\n",
    "\n",
    "selected_features.head()"
   ]
  },
  {
   "cell_type": "code",
   "execution_count": 48,
   "metadata": {},
   "outputs": [],
   "source": [
    "x_train, x_test, y_train, y_test = train_test_split(selected_features, target, test_size =.2)"
   ]
  },
  {
   "cell_type": "code",
   "execution_count": 49,
   "metadata": {},
   "outputs": [
    {
     "data": {
      "text/plain": [
       "LogisticRegression(C=1.0, class_weight=None, dual=False, fit_intercept=True,\n",
       "          intercept_scaling=1, max_iter=100, multi_class='warn',\n",
       "          n_jobs=None, penalty='l2', random_state=None, solver='liblinear',\n",
       "          tol=0.0001, verbose=0, warm_start=False)"
      ]
     },
     "execution_count": 49,
     "metadata": {},
     "output_type": "execute_result"
    }
   ],
   "source": [
    "from sklearn.linear_model import LogisticRegression\n",
    "\n",
    "logistic_model = LogisticRegression(penalty='l2', solver='liblinear')\n",
    "logistic_model.fit(x_train, y_train)"
   ]
  },
  {
   "cell_type": "code",
   "execution_count": 50,
   "metadata": {},
   "outputs": [],
   "source": [
    "y_pred = logistic_model.predict(x_test)"
   ]
  },
  {
   "cell_type": "code",
   "execution_count": 51,
   "metadata": {},
   "outputs": [
    {
     "name": "stdout",
     "output_type": "stream",
     "text": [
      "Accuracy :  0.9037854889589906\n",
      "Precision Score :  0.8707865168539326\n",
      "Recall Score :  0.9538461538461539\n"
     ]
    }
   ],
   "source": [
    "acc = accuracy_score(y_test, y_pred)\n",
    "pre = precision_score(y_test, y_pred)\n",
    "recall = recall_score(y_test, y_pred)\n",
    "\n",
    "print('Accuracy : ' , acc)\n",
    "print('Precision Score : ', pre)\n",
    "print('Recall Score : ', recall)"
   ]
  },
  {
   "cell_type": "code",
   "execution_count": null,
   "metadata": {},
   "outputs": [],
   "source": []
  }
 ],
 "metadata": {
  "kernelspec": {
   "display_name": "Python 3",
   "language": "python",
   "name": "python3"
  },
  "language_info": {
   "codemirror_mode": {
    "name": "ipython",
    "version": 3
   },
   "file_extension": ".py",
   "mimetype": "text/x-python",
   "name": "python",
   "nbconvert_exporter": "python",
   "pygments_lexer": "ipython3",
   "version": "3.7.4"
  }
 },
 "nbformat": 4,
 "nbformat_minor": 2
}
